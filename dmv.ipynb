{
 "cells": [
  {
   "cell_type": "code",
   "execution_count": 1,
   "metadata": {},
   "outputs": [],
   "source": [
    "from selenium import webdriver\n",
    "from selenium.webdriver.common.by import By\n",
    "from selenium.webdriver.support.wait import WebDriverWait\n",
    "import re\n",
    "import datetime\n",
    "import time\n",
    "import random"
   ]
  },
  {
   "cell_type": "code",
   "execution_count": 2,
   "metadata": {},
   "outputs": [],
   "source": [
    "driver = webdriver.Chrome()"
   ]
  },
  {
   "cell_type": "code",
   "execution_count": 4,
   "metadata": {},
   "outputs": [],
   "source": [
    "def set_up():\n",
    "    driver.get(\"https://dmv.de.gov/mydmv.ejs?command=MyDMVLogin\")\n",
    "    driver.find_element(By.ID, \"username\").send_keys(\"usr1548\")\n",
    "    driver.find_element(By.ID, \"password\").send_keys(\"feC8594!@9GjAmm\")\n",
    "    driver.find_element(By.ID, \"submitBtn\").click()\n",
    "    try:\n",
    "        driver.find_element(By.LINK_TEXT, \"Close\").click()\n",
    "    except:\n",
    "        pass\n",
    "    driver.find_element(By.LINK_TEXT, \"Road Test Appointment\").click()\n",
    "    driver.find_element(By.ID, \"submitNew\").click()\n",
    "    driver.find_element(By.ID, \"next\").click()\n",
    "def attempt_to_book():\n",
    "    driver.find_element(By.ID, \"firstAvailable\").click()\n",
    "    buttons = WebDriverWait(driver, 600).until(lambda x: x.find_elements(By.CLASS_NAME, \"button1\")) \n",
    "    for button in buttons:\n",
    "        time = re.search('2024-0[234].*T', button.get_attribute(\"onclick\")).group()[:-1]\n",
    "        print(str(datetime.datetime.now()), \"available:\", time)\n",
    "        if time > \"2024-02-17\" and time < \"2024-03-01\":\n",
    "            button.click()\n",
    "            e = driver.find_element(By.ID, \"confirmAdd\")\n",
    "            driver.execute_script(\"arguments[0].click();\",e)\n",
    "            return True\n",
    "    return False\n"
   ]
  },
  {
   "cell_type": "code",
   "execution_count": 5,
   "metadata": {},
   "outputs": [
    {
     "name": "stdout",
     "output_type": "stream",
     "text": [
      "2024-02-07 23:20:16.316963 available: 2024-04-01\n",
      "2024-02-07 23:20:16.328409 available: 2024-04-01\n",
      "2024-02-07 23:20:16.334972 available: 2024-04-01\n",
      "2024-02-07 23:20:16.342278 available: 2024-04-01\n",
      "2024-02-07 23:20:16.349217 available: 2024-04-01\n",
      "2024-02-07 23:20:16.355860 available: 2024-04-01\n",
      "2024-02-07 23:20:16.363878 available: 2024-04-01\n",
      "2024-02-07 23:20:16.372526 available: 2024-04-01\n",
      "2024-02-07 23:20:16.380038 available: 2024-04-01\n",
      "2024-02-07 23:20:16.387832 available: 2024-04-01\n"
     ]
    }
   ],
   "source": [
    "while True:\n",
    "    try:\n",
    "        set_up()\n",
    "        while not attempt_to_book():\n",
    "            time.sleep(random.randint(1, 60))\n",
    "        break\n",
    "    except:\n",
    "        time.sleep(60)\n"
   ]
  },
  {
   "cell_type": "code",
   "execution_count": 113,
   "metadata": {},
   "outputs": [
    {
     "name": "stdout",
     "output_type": "stream",
     "text": [
      "2024-02-07 22:12:03.869420 available: 2024-04-01\n"
     ]
    }
   ],
   "source": [
    "print(str(datetime.datetime.now()), \"available:\", \"2024-04-01\")"
   ]
  },
  {
   "cell_type": "code",
   "execution_count": 89,
   "metadata": {},
   "outputs": [
    {
     "name": "stdout",
     "output_type": "stream",
     "text": [
      "2024-04-01\n",
      "2024-04-01\n",
      "2024-04-01\n",
      "2024-04-01\n",
      "2024-04-01\n",
      "2024-04-01\n",
      "2024-04-01\n",
      "2024-04-01\n",
      "2024-04-01\n",
      "2024-04-01\n"
     ]
    },
    {
     "ename": "KeyboardInterrupt",
     "evalue": "",
     "output_type": "error",
     "traceback": [
      "\u001b[0;31m---------------------------------------------------------------------------\u001b[0m",
      "\u001b[0;31mKeyboardInterrupt\u001b[0m                         Traceback (most recent call last)",
      "Cell \u001b[0;32mIn[89], line 2\u001b[0m\n\u001b[1;32m      1\u001b[0m \u001b[38;5;28;01mwhile\u001b[39;00m \u001b[38;5;28;01mTrue\u001b[39;00m:\n\u001b[0;32m----> 2\u001b[0m     \u001b[43mattempt_to_book\u001b[49m\u001b[43m(\u001b[49m\u001b[43m)\u001b[49m\n\u001b[1;32m      3\u001b[0m     time\u001b[38;5;241m.\u001b[39msleep(random\u001b[38;5;241m.\u001b[39mrandint(\u001b[38;5;241m1\u001b[39m, \u001b[38;5;241m60\u001b[39m))\n",
      "Cell \u001b[0;32mIn[88], line 15\u001b[0m, in \u001b[0;36mattempt_to_book\u001b[0;34m()\u001b[0m\n\u001b[1;32m     13\u001b[0m \u001b[38;5;28;01mdef\u001b[39;00m \u001b[38;5;21mattempt_to_book\u001b[39m():\n\u001b[1;32m     14\u001b[0m     driver\u001b[38;5;241m.\u001b[39mfind_element(By\u001b[38;5;241m.\u001b[39mID, \u001b[38;5;124m\"\u001b[39m\u001b[38;5;124mfirstAvailable\u001b[39m\u001b[38;5;124m\"\u001b[39m)\u001b[38;5;241m.\u001b[39mclick()\n\u001b[0;32m---> 15\u001b[0m     buttons \u001b[38;5;241m=\u001b[39m \u001b[43mWebDriverWait\u001b[49m\u001b[43m(\u001b[49m\u001b[43mdriver\u001b[49m\u001b[43m,\u001b[49m\u001b[43m \u001b[49m\u001b[38;5;241;43m600\u001b[39;49m\u001b[43m)\u001b[49m\u001b[38;5;241;43m.\u001b[39;49m\u001b[43muntil\u001b[49m\u001b[43m(\u001b[49m\u001b[38;5;28;43;01mlambda\u001b[39;49;00m\u001b[43m \u001b[49m\u001b[43mx\u001b[49m\u001b[43m:\u001b[49m\u001b[43m \u001b[49m\u001b[43mx\u001b[49m\u001b[38;5;241;43m.\u001b[39;49m\u001b[43mfind_elements\u001b[49m\u001b[43m(\u001b[49m\u001b[43mBy\u001b[49m\u001b[38;5;241;43m.\u001b[39;49m\u001b[43mCLASS_NAME\u001b[49m\u001b[43m,\u001b[49m\u001b[43m \u001b[49m\u001b[38;5;124;43m\"\u001b[39;49m\u001b[38;5;124;43mbutton1\u001b[39;49m\u001b[38;5;124;43m\"\u001b[39;49m\u001b[43m)\u001b[49m\u001b[43m)\u001b[49m \n\u001b[1;32m     16\u001b[0m     \u001b[38;5;28;01mfor\u001b[39;00m button \u001b[38;5;129;01min\u001b[39;00m buttons:\n\u001b[1;32m     17\u001b[0m         time \u001b[38;5;241m=\u001b[39m re\u001b[38;5;241m.\u001b[39msearch(\u001b[38;5;124m'\u001b[39m\u001b[38;5;124m2024-0[234].*T\u001b[39m\u001b[38;5;124m'\u001b[39m, button\u001b[38;5;241m.\u001b[39mget_attribute(\u001b[38;5;124m\"\u001b[39m\u001b[38;5;124monclick\u001b[39m\u001b[38;5;124m\"\u001b[39m))\u001b[38;5;241m.\u001b[39mgroup()[:\u001b[38;5;241m-\u001b[39m\u001b[38;5;241m1\u001b[39m]\n",
      "File \u001b[0;32m~/.local/lib/python3.10/site-packages/selenium/webdriver/support/wait.py:102\u001b[0m, in \u001b[0;36mWebDriverWait.until\u001b[0;34m(self, method, message)\u001b[0m\n\u001b[1;32m    100\u001b[0m     screen \u001b[38;5;241m=\u001b[39m \u001b[38;5;28mgetattr\u001b[39m(exc, \u001b[38;5;124m\"\u001b[39m\u001b[38;5;124mscreen\u001b[39m\u001b[38;5;124m\"\u001b[39m, \u001b[38;5;28;01mNone\u001b[39;00m)\n\u001b[1;32m    101\u001b[0m     stacktrace \u001b[38;5;241m=\u001b[39m \u001b[38;5;28mgetattr\u001b[39m(exc, \u001b[38;5;124m\"\u001b[39m\u001b[38;5;124mstacktrace\u001b[39m\u001b[38;5;124m\"\u001b[39m, \u001b[38;5;28;01mNone\u001b[39;00m)\n\u001b[0;32m--> 102\u001b[0m \u001b[43mtime\u001b[49m\u001b[38;5;241;43m.\u001b[39;49m\u001b[43msleep\u001b[49m\u001b[43m(\u001b[49m\u001b[38;5;28;43mself\u001b[39;49m\u001b[38;5;241;43m.\u001b[39;49m\u001b[43m_poll\u001b[49m\u001b[43m)\u001b[49m\n\u001b[1;32m    103\u001b[0m \u001b[38;5;28;01mif\u001b[39;00m time\u001b[38;5;241m.\u001b[39mmonotonic() \u001b[38;5;241m>\u001b[39m end_time:\n\u001b[1;32m    104\u001b[0m     \u001b[38;5;28;01mbreak\u001b[39;00m\n",
      "\u001b[0;31mKeyboardInterrupt\u001b[0m: "
     ]
    }
   ],
   "source": [
    "while not attempt_to_book():\n",
    "    time.sleep(random.randint(1, 60))"
   ]
  },
  {
   "cell_type": "code",
   "execution_count": 96,
   "metadata": {},
   "outputs": [
    {
     "data": {
      "text/plain": [
       "True"
      ]
     },
     "execution_count": 96,
     "metadata": {},
     "output_type": "execute_result"
    }
   ],
   "source": [
    "\"2024-02-26\" < \"2024-03-01\""
   ]
  },
  {
   "cell_type": "code",
   "execution_count": 86,
   "metadata": {},
   "outputs": [],
   "source": [
    "time.sleep(random.randint(1, 5))"
   ]
  },
  {
   "cell_type": "code",
   "execution_count": 78,
   "metadata": {},
   "outputs": [],
   "source": [
    "driver.find_element(By.ID, \"firstAvailable\").click()\n",
    "buttons = WebDriverWait(driver, 600).until(lambda x: x.find_elements(By.CLASS_NAME, \"button1\")) \n"
   ]
  },
  {
   "cell_type": "code",
   "execution_count": 79,
   "metadata": {},
   "outputs": [
    {
     "name": "stdout",
     "output_type": "stream",
     "text": [
      "2024-04-01\n"
     ]
    }
   ],
   "source": [
    "\n",
    "for button in buttons:\n",
    "    date = re.search('2024-0[234].*T', button.get_attribute(\"onclick\")).group()[:-1]\n",
    "    print(date)\n",
    "    if date > \"2024-02-14\":\n",
    "        button.click()\n",
    "        e = driver.find_element(By.ID, \"confirmAdd\")\n",
    "        driver.execute_script(\"arguments[0].click();\",e)\n",
    "        break"
   ]
  },
  {
   "cell_type": "code",
   "execution_count": 73,
   "metadata": {},
   "outputs": [
    {
     "ename": "NameError",
     "evalue": "name 't' is not defined",
     "output_type": "error",
     "traceback": [
      "\u001b[0;31m---------------------------------------------------------------------------\u001b[0m",
      "\u001b[0;31mNameError\u001b[0m                                 Traceback (most recent call last)",
      "Cell \u001b[0;32mIn[73], line 1\u001b[0m\n\u001b[0;32m----> 1\u001b[0m \u001b[43mt\u001b[49m\n",
      "\u001b[0;31mNameError\u001b[0m: name 't' is not defined"
     ]
    }
   ],
   "source": [
    "t"
   ]
  },
  {
   "cell_type": "code",
   "execution_count": 32,
   "metadata": {},
   "outputs": [
    {
     "name": "stdout",
     "output_type": "stream",
     "text": [
      "confirmAppointment('Mon, Apr 01 2024 08:00 AM','2024-04-01T08:00:00-04:00');\n",
      "confirmAppointment('Mon, Apr 01 2024 08:30 AM','2024-04-01T08:30:00-04:00');\n",
      "confirmAppointment('Mon, Apr 01 2024 09:00 AM','2024-04-01T09:00:00-04:00');\n",
      "confirmAppointment('Mon, Apr 01 2024 09:30 AM','2024-04-01T09:30:00-04:00');\n",
      "confirmAppointment('Mon, Apr 01 2024 10:00 AM','2024-04-01T10:00:00-04:00');\n",
      "confirmAppointment('Mon, Apr 01 2024 01:00 PM','2024-04-01T13:00:00-04:00');\n",
      "confirmAppointment('Mon, Apr 01 2024 01:30 PM','2024-04-01T13:30:00-04:00');\n",
      "confirmAppointment('Mon, Apr 01 2024 02:00 PM','2024-04-01T14:00:00-04:00');\n",
      "confirmAppointment('Mon, Apr 01 2024 02:30 PM','2024-04-01T14:30:00-04:00');\n",
      "confirmAppointment('Mon, Apr 01 2024 03:00 PM','2024-04-01T15:00:00-04:00');\n"
     ]
    }
   ],
   "source": [
    "for button in buttons:\n",
    "    print(button.get_attribute(\"onclick\"))"
   ]
  },
  {
   "cell_type": "code",
   "execution_count": 52,
   "metadata": {},
   "outputs": [
    {
     "name": "stdout",
     "output_type": "stream",
     "text": [
      "2024-04-01\n",
      "2024-04-01\n",
      "2024-04-01\n",
      "2024-04-01\n",
      "2024-04-01\n",
      "2024-04-01\n",
      "2024-04-01\n",
      "2024-04-01\n",
      "2024-04-01\n",
      "2024-04-01\n"
     ]
    }
   ],
   "source": [
    "for button in buttons:\n",
    "    print(re.search('2024-0[234].*T', button.get_attribute(\"onclick\")).group()[:-1])"
   ]
  }
 ],
 "metadata": {
  "kernelspec": {
   "display_name": "Python 3",
   "language": "python",
   "name": "python3"
  },
  "language_info": {
   "codemirror_mode": {
    "name": "ipython",
    "version": 3
   },
   "file_extension": ".py",
   "mimetype": "text/x-python",
   "name": "python",
   "nbconvert_exporter": "python",
   "pygments_lexer": "ipython3",
   "version": "3.10.12"
  }
 },
 "nbformat": 4,
 "nbformat_minor": 2
}
